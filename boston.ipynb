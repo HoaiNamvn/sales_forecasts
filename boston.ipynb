{
 "cells": [
  {
   "cell_type": "code",
   "execution_count": 9,
   "id": "0bec748c",
   "metadata": {},
   "outputs": [],
   "source": [
    "import pandas as pd \n",
    "%matplotlib inline\n",
    "from sklearn.linear_model import LinearRegression\n",
    "from sklearn.model_selection import train_test_split"
   ]
  },
  {
   "cell_type": "code",
   "execution_count": 10,
   "id": "7049bed0",
   "metadata": {},
   "outputs": [
    {
     "data": {
      "text/html": [
       "<div>\n",
       "<style scoped>\n",
       "    .dataframe tbody tr th:only-of-type {\n",
       "        vertical-align: middle;\n",
       "    }\n",
       "\n",
       "    .dataframe tbody tr th {\n",
       "        vertical-align: top;\n",
       "    }\n",
       "\n",
       "    .dataframe thead th {\n",
       "        text-align: right;\n",
       "    }\n",
       "</style>\n",
       "<table border=\"1\" class=\"dataframe\">\n",
       "  <thead>\n",
       "    <tr style=\"text-align: right;\">\n",
       "      <th></th>\n",
       "      <th>CRIME</th>\n",
       "      <th>ZN</th>\n",
       "      <th>INDUS</th>\n",
       "      <th>CHAS</th>\n",
       "      <th>NOX</th>\n",
       "      <th>RM</th>\n",
       "      <th>AGE</th>\n",
       "      <th>DIS</th>\n",
       "      <th>RAD</th>\n",
       "      <th>TAX</th>\n",
       "      <th>PTRATIO</th>\n",
       "      <th>B</th>\n",
       "      <th>LSTAT</th>\n",
       "      <th>PRICE</th>\n",
       "    </tr>\n",
       "  </thead>\n",
       "  <tbody>\n",
       "    <tr>\n",
       "      <th>0</th>\n",
       "      <td>high</td>\n",
       "      <td>0.0</td>\n",
       "      <td>18.10</td>\n",
       "      <td>0</td>\n",
       "      <td>0.718</td>\n",
       "      <td>3.561</td>\n",
       "      <td>87.9</td>\n",
       "      <td>1.6132</td>\n",
       "      <td>24.0</td>\n",
       "      <td>666</td>\n",
       "      <td>20.2</td>\n",
       "      <td>354.7</td>\n",
       "      <td>7.12</td>\n",
       "      <td>27.5</td>\n",
       "    </tr>\n",
       "    <tr>\n",
       "      <th>1</th>\n",
       "      <td>low</td>\n",
       "      <td>0.0</td>\n",
       "      <td>8.14</td>\n",
       "      <td>0</td>\n",
       "      <td>0.538</td>\n",
       "      <td>5.950</td>\n",
       "      <td>82.0</td>\n",
       "      <td>3.9900</td>\n",
       "      <td>4.0</td>\n",
       "      <td>307</td>\n",
       "      <td>21.0</td>\n",
       "      <td>232.6</td>\n",
       "      <td>27.71</td>\n",
       "      <td>13.2</td>\n",
       "    </tr>\n",
       "  </tbody>\n",
       "</table>\n",
       "</div>"
      ],
      "text/plain": [
       "  CRIME   ZN  INDUS  CHAS    NOX     RM   AGE     DIS   RAD  TAX  PTRATIO  \\\n",
       "0  high  0.0  18.10     0  0.718  3.561  87.9  1.6132  24.0  666     20.2   \n",
       "1   low  0.0   8.14     0  0.538  5.950  82.0  3.9900   4.0  307     21.0   \n",
       "\n",
       "       B  LSTAT  PRICE  \n",
       "0  354.7   7.12   27.5  \n",
       "1  232.6  27.71   13.2  "
      ]
     },
     "execution_count": 10,
     "metadata": {},
     "output_type": "execute_result"
    }
   ],
   "source": [
    "df = pd.read_csv('datafiles/Boston.csv')\n",
    "df.head(2)"
   ]
  },
  {
   "cell_type": "code",
   "execution_count": 11,
   "id": "d3288659",
   "metadata": {},
   "outputs": [
    {
     "data": {
      "text/plain": [
       "very_low    50\n",
       "high        25\n",
       "low         25\n",
       "Name: CRIME, dtype: int64"
      ]
     },
     "execution_count": 11,
     "metadata": {},
     "output_type": "execute_result"
    }
   ],
   "source": [
    "df['CRIME'].value_counts()"
   ]
  },
  {
   "cell_type": "code",
   "execution_count": 12,
   "id": "53ee8d30",
   "metadata": {},
   "outputs": [
    {
     "data": {
      "text/html": [
       "<div>\n",
       "<style scoped>\n",
       "    .dataframe tbody tr th:only-of-type {\n",
       "        vertical-align: middle;\n",
       "    }\n",
       "\n",
       "    .dataframe tbody tr th {\n",
       "        vertical-align: top;\n",
       "    }\n",
       "\n",
       "    .dataframe thead th {\n",
       "        text-align: right;\n",
       "    }\n",
       "</style>\n",
       "<table border=\"1\" class=\"dataframe\">\n",
       "  <thead>\n",
       "    <tr style=\"text-align: right;\">\n",
       "      <th></th>\n",
       "      <th>ZN</th>\n",
       "      <th>INDUS</th>\n",
       "      <th>CHAS</th>\n",
       "      <th>NOX</th>\n",
       "      <th>RM</th>\n",
       "      <th>AGE</th>\n",
       "      <th>DIS</th>\n",
       "      <th>RAD</th>\n",
       "      <th>TAX</th>\n",
       "      <th>PTRATIO</th>\n",
       "      <th>B</th>\n",
       "      <th>LSTAT</th>\n",
       "      <th>PRICE</th>\n",
       "      <th>low</th>\n",
       "      <th>very_low</th>\n",
       "    </tr>\n",
       "  </thead>\n",
       "  <tbody>\n",
       "    <tr>\n",
       "      <th>0</th>\n",
       "      <td>0.0</td>\n",
       "      <td>18.10</td>\n",
       "      <td>0</td>\n",
       "      <td>0.718</td>\n",
       "      <td>3.561</td>\n",
       "      <td>87.9</td>\n",
       "      <td>1.6132</td>\n",
       "      <td>24.0</td>\n",
       "      <td>666</td>\n",
       "      <td>20.2</td>\n",
       "      <td>354.7</td>\n",
       "      <td>7.12</td>\n",
       "      <td>27.5</td>\n",
       "      <td>0</td>\n",
       "      <td>0</td>\n",
       "    </tr>\n",
       "    <tr>\n",
       "      <th>1</th>\n",
       "      <td>0.0</td>\n",
       "      <td>8.14</td>\n",
       "      <td>0</td>\n",
       "      <td>0.538</td>\n",
       "      <td>5.950</td>\n",
       "      <td>82.0</td>\n",
       "      <td>3.9900</td>\n",
       "      <td>4.0</td>\n",
       "      <td>307</td>\n",
       "      <td>21.0</td>\n",
       "      <td>232.6</td>\n",
       "      <td>27.71</td>\n",
       "      <td>13.2</td>\n",
       "      <td>1</td>\n",
       "      <td>0</td>\n",
       "    </tr>\n",
       "  </tbody>\n",
       "</table>\n",
       "</div>"
      ],
      "text/plain": [
       "    ZN  INDUS  CHAS    NOX     RM   AGE     DIS   RAD  TAX  PTRATIO      B  \\\n",
       "0  0.0  18.10     0  0.718  3.561  87.9  1.6132  24.0  666     20.2  354.7   \n",
       "1  0.0   8.14     0  0.538  5.950  82.0  3.9900   4.0  307     21.0  232.6   \n",
       "\n",
       "   LSTAT  PRICE  low  very_low  \n",
       "0   7.12   27.5    0         0  \n",
       "1  27.71   13.2    1         0  "
      ]
     },
     "execution_count": 12,
     "metadata": {},
     "output_type": "execute_result"
    }
   ],
   "source": [
    "#ダミー化、文字列から数値列に変換(3to2)\n",
    "#ダミー結合と元の列の削除\n",
    "crime = pd.get_dummies(df['CRIME'], drop_first = True)\n",
    "df2 = pd.concat([df,crime], axis = 1)\n",
    "df2 = df2.drop(['CRIME'], axis = 1)\n",
    "df2.head(2)"
   ]
  },
  {
   "cell_type": "code",
   "execution_count": 13,
   "id": "43489dd0",
   "metadata": {},
   "outputs": [],
   "source": [
    "#データを分割する。　\n",
    "train_val, test = train_test_split(df2, test_size = 0.2, random_state = 0)\n"
   ]
  },
  {
   "cell_type": "code",
   "execution_count": 14,
   "id": "4fcc6d00",
   "metadata": {},
   "outputs": [
    {
     "data": {
      "text/plain": [
       "ZN          0\n",
       "INDUS       0\n",
       "CHAS        0\n",
       "NOX         1\n",
       "RM          0\n",
       "AGE         0\n",
       "DIS         0\n",
       "RAD         0\n",
       "TAX         0\n",
       "PTRATIO     0\n",
       "B           0\n",
       "LSTAT       0\n",
       "PRICE       0\n",
       "low         0\n",
       "very_low    0\n",
       "dtype: int64"
      ]
     },
     "execution_count": 14,
     "metadata": {},
     "output_type": "execute_result"
    }
   ],
   "source": [
    "#欠損値の確認\n",
    "train_val.isnull().sum()"
   ]
  },
  {
   "cell_type": "code",
   "execution_count": 8,
   "id": "77ba7c66",
   "metadata": {},
   "outputs": [],
   "source": [
    "#平均値で欠損値を埋める\n",
    "train_val_mean = train_val.mean() # caculate row average \n",
    "train_val2 = train_val.fillna(train_val_mean) #by average"
   ]
  },
  {
   "cell_type": "code",
   "execution_count": null,
   "id": "a948f13c",
   "metadata": {},
   "outputs": [],
   "source": [
    "\n"
   ]
  }
 ],
 "metadata": {
  "kernelspec": {
   "display_name": "Python 3",
   "language": "python",
   "name": "python3"
  },
  "language_info": {
   "codemirror_mode": {
    "name": "ipython",
    "version": 3
   },
   "file_extension": ".py",
   "mimetype": "text/x-python",
   "name": "python",
   "nbconvert_exporter": "python",
   "pygments_lexer": "ipython3",
   "version": "3.8.8"
  }
 },
 "nbformat": 4,
 "nbformat_minor": 5
}
